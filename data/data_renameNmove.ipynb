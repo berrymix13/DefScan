{
 "cells": [
  {
   "cell_type": "code",
   "execution_count": 1,
   "metadata": {},
   "outputs": [],
   "source": [
    "import numpy as np\n",
    "import cv2\n",
    "import matplotlib.pyplot as plt\n",
    "import os"
   ]
  },
  {
   "cell_type": "code",
   "execution_count": 2,
   "metadata": {},
   "outputs": [
    {
     "name": "stdout",
     "output_type": "stream",
     "text": [
      "['10_20250402122034', '11_20250402122108', '12_20250402122115', '13_20250402122122', '14_20250402122200', '15_20250402122216', '16_20250402122234', '1_20250402121800', '2_20250402121809', '3_20250402121816']\n",
      "17\n"
     ]
    }
   ],
   "source": [
    "fname_list = os.listdir()\n",
    "print(fname_list[:10])\n",
    "print(len(fname_list))"
   ]
  },
  {
   "cell_type": "code",
   "execution_count": 3,
   "metadata": {},
   "outputs": [
    {
     "name": "stdout",
     "output_type": "stream",
     "text": [
      "['10', '11', '12', '13', '14', '15', '16', '1', '2', '3']\n"
     ]
    }
   ],
   "source": [
    "fname_num = []\n",
    "for fname in fname_list:\n",
    "    fname_num.append(fname.split(\"_\")[0])\n",
    "print(fname_num[:10])"
   ]
  },
  {
   "cell_type": "code",
   "execution_count": 4,
   "metadata": {},
   "outputs": [],
   "source": [
    "os.mkdir(\"images\")\n",
    "os.mkdir(\"depths\")"
   ]
  },
  {
   "cell_type": "code",
   "execution_count": 5,
   "metadata": {},
   "outputs": [],
   "source": [
    "# 현재 파일명을 제외[:-1]한 모든 파일 리스트 \n",
    "for idx, fname in enumerate(fname_list[:-1]):\n",
    "    old_img_name = f\"{fname}/image.jpg\"\n",
    "    old_json_name = f\"{fname}/depth.json\"\n",
    "    \n",
    "    fnum = fname_num[idx]\n",
    "    new_img_name = f\"./images/{fnum}.jpg\"\n",
    "    new_json_name = f\"./depths/{fnum}.json\"\n",
    "    os.rename(old_img_name, new_img_name)\n",
    "    os.rename(old_json_name, new_json_name)"
   ]
  },
  {
   "cell_type": "code",
   "execution_count": null,
   "metadata": {},
   "outputs": [],
   "source": [
    "# 이상 데이터 삭제\n",
    "del_num = \"1 10 18 19 21 22 26 27 28 29 32 34 38 39 40 41 42 43 45 46 47 48 49 50 51\"\n",
    "del_list = del_num.split()\n",
    "\n",
    "for name in del_list:\n",
    "    del_img_path = os.remove(f\"./images/{name}.jpg\")\n",
    "    del_json_patj = os.remove(f\"./depths/{name}.json\")"
   ]
  },
  {
   "cell_type": "code",
   "execution_count": 4,
   "metadata": {},
   "outputs": [
    {
     "data": {
      "text/plain": [
       "26"
      ]
     },
     "execution_count": 4,
     "metadata": {},
     "output_type": "execute_result"
    }
   ],
   "source": [
    "len(os.listdir(\"./images/\"))"
   ]
  }
 ],
 "metadata": {
  "kernelspec": {
   "display_name": "carseg",
   "language": "python",
   "name": "python3"
  },
  "language_info": {
   "codemirror_mode": {
    "name": "ipython",
    "version": 3
   },
   "file_extension": ".py",
   "mimetype": "text/x-python",
   "name": "python",
   "nbconvert_exporter": "python",
   "pygments_lexer": "ipython3",
   "version": "3.10.16"
  }
 },
 "nbformat": 4,
 "nbformat_minor": 2
}
